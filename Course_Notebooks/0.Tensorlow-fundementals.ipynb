{
 "cells": [
  {
   "cell_type": "markdown",
   "id": "c5076bfa62cd6979",
   "metadata": {},
   "source": [
    "# Introduction to tensors"
   ]
  },
  {
   "cell_type": "code",
   "execution_count": 68,
   "id": "c6311c9c9d9da32",
   "metadata": {
    "ExecuteTime": {
     "end_time": "2023-08-27T14:53:27.756631600Z",
     "start_time": "2023-08-27T14:53:27.677692900Z"
    }
   },
   "outputs": [
    {
     "name": "stdout",
     "output_type": "stream",
     "text": [
      "2.10.0\n"
     ]
    }
   ],
   "source": [
    "# Import tensorflow \n",
    "import tensorflow as tf\n",
    "print(tf.__version__)"
   ]
  },
  {
   "cell_type": "code",
   "execution_count": 4,
   "id": "240252c73c4da45c",
   "metadata": {
    "ExecuteTime": {
     "end_time": "2023-08-27T13:19:06.428359800Z",
     "start_time": "2023-08-27T13:19:06.318591300Z"
    }
   },
   "outputs": [
    {
     "data": {
      "text/plain": [
       "<tf.Tensor: shape=(), dtype=int32, numpy=7>"
      ]
     },
     "execution_count": 4,
     "metadata": {},
     "output_type": "execute_result"
    }
   ],
   "source": [
    "# Create tensors with tf.constant()\n",
    "scalar = tf.constant(7)\n",
    "scalar"
   ]
  },
  {
   "cell_type": "code",
   "execution_count": 5,
   "id": "bf32def0eb419bd5",
   "metadata": {
    "ExecuteTime": {
     "end_time": "2023-08-27T13:19:12.942536500Z",
     "start_time": "2023-08-27T13:19:12.879630300Z"
    }
   },
   "outputs": [
    {
     "data": {
      "text/plain": [
       "0"
      ]
     },
     "execution_count": 5,
     "metadata": {},
     "output_type": "execute_result"
    }
   ],
   "source": [
    "\n",
    "\n",
    "# Check the number of dimensions of a tensor (ndim stands for number of dimensions)\n",
    "scalar.ndim"
   ]
  },
  {
   "cell_type": "code",
   "execution_count": 6,
   "id": "720f19dc0447f540",
   "metadata": {
    "ExecuteTime": {
     "end_time": "2023-08-27T13:19:13.774339600Z",
     "start_time": "2023-08-27T13:19:13.664556100Z"
    }
   },
   "outputs": [
    {
     "data": {
      "text/plain": [
       "<tf.Tensor: shape=(2,), dtype=int32, numpy=array([10, 10])>"
      ]
     },
     "execution_count": 6,
     "metadata": {},
     "output_type": "execute_result"
    }
   ],
   "source": [
    "# Create a vector \n",
    "vector = tf.constant([10, 10])\n",
    "vector"
   ]
  },
  {
   "cell_type": "code",
   "execution_count": 7,
   "id": "83d1da678d81b5fe",
   "metadata": {
    "ExecuteTime": {
     "end_time": "2023-08-27T13:19:15.334544Z",
     "start_time": "2023-08-27T13:19:15.200762600Z"
    }
   },
   "outputs": [
    {
     "data": {
      "text/plain": [
       "1"
      ]
     },
     "execution_count": 7,
     "metadata": {},
     "output_type": "execute_result"
    }
   ],
   "source": [
    "# Check the dimension of our vector\n",
    "vector.ndim"
   ]
  },
  {
   "cell_type": "code",
   "execution_count": 8,
   "id": "90769a559ab9b74f",
   "metadata": {
    "ExecuteTime": {
     "end_time": "2023-08-27T13:19:16.001876500Z",
     "start_time": "2023-08-27T13:19:15.809960700Z"
    }
   },
   "outputs": [
    {
     "data": {
      "text/plain": [
       "<tf.Tensor: shape=(2, 2), dtype=int32, numpy=\n",
       "array([[10,  7],\n",
       "       [ 7, 10]])>"
      ]
     },
     "execution_count": 8,
     "metadata": {},
     "output_type": "execute_result"
    }
   ],
   "source": [
    "\n",
    "# Create a matrix (has more than one dimension)\n",
    "matrix = tf.constant([[10, 7],\n",
    "                      [7,10]])\n",
    "matrix"
   ]
  },
  {
   "cell_type": "code",
   "execution_count": 9,
   "id": "596315076d52260a",
   "metadata": {
    "ExecuteTime": {
     "end_time": "2023-08-27T13:19:16.680523Z",
     "start_time": "2023-08-27T13:19:16.586374700Z"
    }
   },
   "outputs": [
    {
     "data": {
      "text/plain": [
       "2"
      ]
     },
     "execution_count": 9,
     "metadata": {},
     "output_type": "execute_result"
    }
   ],
   "source": [
    "\n",
    "\n",
    "# Check the number of dimension of a matrix\n",
    "matrix.ndim"
   ]
  },
  {
   "cell_type": "code",
   "execution_count": 10,
   "id": "78fced5a64ee615c",
   "metadata": {
    "ExecuteTime": {
     "end_time": "2023-08-27T13:19:17.350803800Z",
     "start_time": "2023-08-27T13:19:17.225404Z"
    }
   },
   "outputs": [
    {
     "data": {
      "text/plain": [
       "<tf.Tensor: shape=(3, 2), dtype=int32, numpy=\n",
       "array([[10,  7],\n",
       "       [ 3,  2],\n",
       "       [ 8,  9]])>"
      ]
     },
     "execution_count": 10,
     "metadata": {},
     "output_type": "execute_result"
    }
   ],
   "source": [
    "# Create another matrix\n",
    "another_matrix = tf.constant([[10, 7],\n",
    "                              [3, 2],\n",
    "                              [8, 9]])\n",
    "another_matrix\n"
   ]
  },
  {
   "cell_type": "code",
   "execution_count": 11,
   "id": "eb80208bcc0d8984",
   "metadata": {
    "ExecuteTime": {
     "end_time": "2023-08-27T13:19:18.043021800Z",
     "start_time": "2023-08-27T13:19:17.905101200Z"
    }
   },
   "outputs": [
    {
     "data": {
      "text/plain": [
       "2"
      ]
     },
     "execution_count": 11,
     "metadata": {},
     "output_type": "execute_result"
    }
   ],
   "source": [
    "# Check the ndim of another matrix\n",
    "another_matrix.ndim"
   ]
  },
  {
   "cell_type": "code",
   "execution_count": 12,
   "id": "72d1b9ad10b6834b",
   "metadata": {
    "ExecuteTime": {
     "end_time": "2023-08-27T13:19:18.575974600Z",
     "start_time": "2023-08-27T13:19:18.450576300Z"
    }
   },
   "outputs": [
    {
     "data": {
      "text/plain": [
       "<tf.Tensor: shape=(3, 2, 3), dtype=int32, numpy=\n",
       "array([[[ 1,  2,  3],\n",
       "        [ 4,  5,  6]],\n",
       "\n",
       "       [[ 7,  8,  9],\n",
       "        [10, 11, 12]],\n",
       "\n",
       "       [[13, 14, 15],\n",
       "        [16, 17, 18]]])>"
      ]
     },
     "execution_count": 12,
     "metadata": {},
     "output_type": "execute_result"
    }
   ],
   "source": [
    "# Let's create a tensor\n",
    "tensor = tf.constant([[[1, 2, 3],\n",
    "                       [4, 5, 6]],\n",
    "                       [[7, 8, 9],\n",
    "                        [10, 11,12]],\n",
    "                      [[13, 14,15],\n",
    "                       [16, 17, 18]]])\n",
    "tensor"
   ]
  },
  {
   "cell_type": "code",
   "execution_count": 13,
   "id": "c99f2141015f54cb",
   "metadata": {
    "ExecuteTime": {
     "end_time": "2023-08-27T13:19:18.858433100Z",
     "start_time": "2023-08-27T13:19:18.717401400Z"
    }
   },
   "outputs": [
    {
     "data": {
      "text/plain": [
       "3"
      ]
     },
     "execution_count": 13,
     "metadata": {},
     "output_type": "execute_result"
    }
   ],
   "source": [
    "# Create the ndim of tensor\n",
    "tensor.ndim"
   ]
  },
  {
   "cell_type": "raw",
   "id": "6cec2e0b586dd719",
   "metadata": {},
   "source": [
    "What we have created so far:\n",
    ". scalar = a single number\n",
    ". vector = a number with direction(eg wind speed and direction)\n",
    ". Matrix = a 2-dimensional array of numbers\n",
    ". Tensor = an n-dimensional array of numbers ( when n can be any number, a 0-dimensional tensor is a scalar, a 1-dimensional tensor is a vector, a 2-dimensional tensor is a matrix)"
   ]
  },
  {
   "cell_type": "markdown",
   "id": "c1238e11498bf612",
   "metadata": {},
   "source": [
    "# Creating tensors with tf.Variable"
   ]
  },
  {
   "cell_type": "code",
   "execution_count": 14,
   "id": "be8d9d5bcc8b8b98",
   "metadata": {
    "ExecuteTime": {
     "end_time": "2023-08-27T13:19:19.658748600Z",
     "start_time": "2023-08-27T13:19:19.282022600Z"
    }
   },
   "outputs": [
    {
     "data": {
      "text/plain": [
       "(<tf.Variable 'Variable:0' shape=(2,) dtype=int32, numpy=array([10,  7])>,\n",
       " <tf.Tensor: shape=(2,), dtype=int32, numpy=array([10,  7])>)"
      ]
     },
     "execution_count": 14,
     "metadata": {},
     "output_type": "execute_result"
    }
   ],
   "source": [
    "# Create the same tensor with tf.variable() as above\n",
    "changeable_tensor = tf.Variable([10, 7])\n",
    "unchangeable_tensor = tf.constant([10, 7])\n",
    "changeable_tensor, unchangeable_tensor\n"
   ]
  },
  {
   "cell_type": "code",
   "execution_count": 15,
   "id": "73ba59590b6e1c32",
   "metadata": {
    "ExecuteTime": {
     "end_time": "2023-08-27T13:19:21.594102300Z",
     "start_time": "2023-08-27T13:19:19.737261200Z"
    }
   },
   "outputs": [
    {
     "ename": "TypeError",
     "evalue": "'ResourceVariable' object does not support item assignment",
     "output_type": "error",
     "traceback": [
      "\u001b[1;31m---------------------------------------------------------------------------\u001b[0m",
      "\u001b[1;31mTypeError\u001b[0m                                 Traceback (most recent call last)",
      "Cell \u001b[1;32mIn[15], line 2\u001b[0m\n\u001b[0;32m      1\u001b[0m \u001b[38;5;66;03m# Let's try to change one of the elements in our changeable_tensor\u001b[39;00m\n\u001b[1;32m----> 2\u001b[0m \u001b[43mchangeable_tensor\u001b[49m\u001b[43m[\u001b[49m\u001b[38;5;241;43m0\u001b[39;49m\u001b[43m]\u001b[49m \u001b[38;5;241m=\u001b[39m \u001b[38;5;241m7\u001b[39m\n\u001b[0;32m      3\u001b[0m changeable_tensor\n",
      "\u001b[1;31mTypeError\u001b[0m: 'ResourceVariable' object does not support item assignment"
     ]
    }
   ],
   "source": [
    "# Let's try to change one of the elements in our changeable_tensor\n",
    "changeable_tensor[0] = 7\n",
    "changeable_tensor"
   ]
  },
  {
   "cell_type": "code",
   "execution_count": null,
   "id": "c9665d46dac7d124",
   "metadata": {
    "ExecuteTime": {
     "end_time": "2023-08-27T13:19:21.672627600Z",
     "start_time": "2023-08-27T13:19:21.594102300Z"
    }
   },
   "outputs": [],
   "source": [
    "# How about we try with assign()\n",
    "changeable_tensor[0].assign(7)\n",
    "changeable_tensor\n",
    "# changeable_tensor[0] has been changed to 7"
   ]
  },
  {
   "cell_type": "code",
   "execution_count": null,
   "id": "80fa7eb98b3680a8",
   "metadata": {
    "ExecuteTime": {
     "start_time": "2023-08-27T13:19:21.609725800Z"
    }
   },
   "outputs": [],
   "source": [
    "# Let's try to change our unchangeable_tensor\n",
    "unchangeable_tensor[0].assign(7)\n",
    "unchangeable_tensor"
   ]
  },
  {
   "cell_type": "markdown",
   "id": "8e8f8951fe72e12b",
   "metadata": {},
   "source": [
    "Rarely in practice, you wil need to decide whether to use tf.constant or tf.Variable to create tensors, as TensorFlow does this for you. However, if in doubt, use tf.constant and change later if needed."
   ]
  },
  {
   "cell_type": "markdown",
   "id": "d12d89a6d4e4c55b",
   "metadata": {},
   "source": [
    "# Creating random tensors \n",
    "Random tenors are tensors of some arbitrary size which contain random numbers"
   ]
  },
  {
   "cell_type": "code",
   "execution_count": null,
   "id": "304fa9ca02292802",
   "metadata": {
    "ExecuteTime": {
     "start_time": "2023-08-27T13:19:21.612735300Z"
    }
   },
   "outputs": [],
   "source": [
    "# Create two random but the same tensors \n",
    "random_1 = tf.random.Generator.from_seed(7) # set seed for reproducibility\n",
    "random_1 = random_1.normal(shape=(3, 2))\n",
    "random_2 = tf.random.Generator.from_seed(7)\n",
    "random_2 = random_2.normal(shape=(3, 2))\n",
    "# Are they equal? \n",
    "random_1, random_2, random_1 == random_2\n",
    "                    "
   ]
  },
  {
   "cell_type": "markdown",
   "id": "f7d4c124e33d83f",
   "metadata": {},
   "source": [
    "# Shuffle the order of elements in a tensor"
   ]
  },
  {
   "cell_type": "code",
   "execution_count": null,
   "id": "77e5cfba7f0977f4",
   "metadata": {
    "ExecuteTime": {
     "start_time": "2023-08-27T13:19:21.612735300Z"
    }
   },
   "outputs": [],
   "source": [
    "# Shuffle a tensor (valuable when you want to shuffle your data so the inherent order doesn't affect learning)\n",
    "not_shuffled = tf.constant([[10, 7],\n",
    "                            [3, 4],\n",
    "                            [2, 5]])\n",
    "# Shuffle out non_shuffled tensor \n",
    "tf.random.shuffle(not_shuffled)"
   ]
  },
  {
   "cell_type": "code",
   "execution_count": null,
   "id": "1c92950484251cbc",
   "metadata": {
    "ExecuteTime": {
     "start_time": "2023-08-27T13:19:21.625748800Z"
    }
   },
   "outputs": [],
   "source": [
    "# Shuffle our non_shuffled tensor\n",
    "tf.random.set_seed(      42)\n",
    "tf.random.shuffle(not_shuffled, seed=42)"
   ]
  },
  {
   "cell_type": "code",
   "execution_count": null,
   "id": "e8ec4264261f84b9",
   "metadata": {
    "ExecuteTime": {
     "start_time": "2023-08-27T13:19:21.625748800Z"
    }
   },
   "outputs": [],
   "source": [
    "not_shuffled"
   ]
  },
  {
   "cell_type": "code",
   "execution_count": null,
   "id": "1d5e9fe7967ccea3",
   "metadata": {
    "ExecuteTime": {
     "start_time": "2023-08-27T13:19:21.641379800Z"
    }
   },
   "outputs": [],
   "source": [
    "tf.random.set_seed(42) # global level random seed\n",
    "tf.random.shuffle(not_shuffled, seed=42) # operation level seed\n"
   ]
  },
  {
   "cell_type": "markdown",
   "id": "ddb346284108aa90",
   "metadata": {},
   "source": [
    "# Other ways to make tensors"
   ]
  },
  {
   "cell_type": "code",
   "execution_count": 16,
   "id": "f6fe5f133276c9ec",
   "metadata": {
    "ExecuteTime": {
     "end_time": "2023-08-27T13:19:22.080469600Z",
     "start_time": "2023-08-27T13:19:21.657005700Z"
    }
   },
   "outputs": [
    {
     "data": {
      "text/plain": [
       "<tf.Tensor: shape=(10, 7), dtype=float32, numpy=\n",
       "array([[1., 1., 1., 1., 1., 1., 1.],\n",
       "       [1., 1., 1., 1., 1., 1., 1.],\n",
       "       [1., 1., 1., 1., 1., 1., 1.],\n",
       "       [1., 1., 1., 1., 1., 1., 1.],\n",
       "       [1., 1., 1., 1., 1., 1., 1.],\n",
       "       [1., 1., 1., 1., 1., 1., 1.],\n",
       "       [1., 1., 1., 1., 1., 1., 1.],\n",
       "       [1., 1., 1., 1., 1., 1., 1.],\n",
       "       [1., 1., 1., 1., 1., 1., 1.],\n",
       "       [1., 1., 1., 1., 1., 1., 1.]], dtype=float32)>"
      ]
     },
     "execution_count": 16,
     "metadata": {},
     "output_type": "execute_result"
    }
   ],
   "source": [
    "# Create a tensor of all ones\n",
    "tf.ones([10, 7])"
   ]
  },
  {
   "cell_type": "code",
   "execution_count": 17,
   "id": "19e88fa1fab2f846",
   "metadata": {
    "ExecuteTime": {
     "end_time": "2023-08-27T13:19:22.284385400Z",
     "start_time": "2023-08-27T13:19:21.892165900Z"
    }
   },
   "outputs": [
    {
     "data": {
      "text/plain": [
       "<tf.Tensor: shape=(3, 4), dtype=float32, numpy=\n",
       "array([[0., 0., 0., 0.],\n",
       "       [0., 0., 0., 0.],\n",
       "       [0., 0., 0., 0.]], dtype=float32)>"
      ]
     },
     "execution_count": 17,
     "metadata": {},
     "output_type": "execute_result"
    }
   ],
   "source": [
    "# Create a tensor of all zeros\n",
    "tf.zeros(shape=(3, 4))"
   ]
  },
  {
   "cell_type": "markdown",
   "id": "c3375e6970dabf64",
   "metadata": {},
   "source": [
    "# Turn NumPy arrays into tensors \n",
    "The main difference between NumPy arrays and Tensorflow tensors is that tensors can be run on GPU (much faster for numerical computing)."
   ]
  },
  {
   "cell_type": "code",
   "execution_count": 18,
   "id": "c88b7b9ab58974ba",
   "metadata": {
    "ExecuteTime": {
     "end_time": "2023-08-27T13:19:22.514433Z",
     "start_time": "2023-08-27T13:19:22.221879Z"
    }
   },
   "outputs": [
    {
     "data": {
      "text/plain": [
       "array([ 1,  2,  3,  4,  5,  6,  7,  8,  9, 10, 11, 12, 13, 14, 15, 16, 17,\n",
       "       18, 19, 20, 21, 22, 23, 24])"
      ]
     },
     "execution_count": 18,
     "metadata": {},
     "output_type": "execute_result"
    }
   ],
   "source": [
    "# You can also turn NumPy arrays into tensors\n",
    "import numpy as np\n",
    "numpy_A = np.arange(1, 25, dtype=np.int32) # create a NumPy array between 1 and 25\n",
    "numpy_A"
   ]
  },
  {
   "cell_type": "code",
   "execution_count": 19,
   "id": "ee7a54c88337559e",
   "metadata": {
    "ExecuteTime": {
     "end_time": "2023-08-27T13:19:23.068995700Z",
     "start_time": "2023-08-27T13:19:22.441428Z"
    }
   },
   "outputs": [
    {
     "data": {
      "text/plain": [
       "(<tf.Tensor: shape=(2, 2), dtype=int32, numpy=\n",
       " array([[10,  7],\n",
       "        [ 7, 10]])>,\n",
       " <tf.Tensor: shape=(2,), dtype=int32, numpy=array([10, 10])>)"
      ]
     },
     "execution_count": 19,
     "metadata": {},
     "output_type": "execute_result"
    }
   ],
   "source": [
    "X = tf.constant(matrix) # capital for matrix or tensor \n",
    "Y = tf.constant(vector) # non_capital for vector\n",
    "X, Y"
   ]
  },
  {
   "cell_type": "code",
   "execution_count": 20,
   "id": "d3a49bdfeef0167",
   "metadata": {
    "ExecuteTime": {
     "end_time": "2023-08-27T13:19:23.910249Z",
     "start_time": "2023-08-27T13:19:22.915373500Z"
    }
   },
   "outputs": [
    {
     "data": {
      "text/plain": [
       "(<tf.Tensor: shape=(3, 8), dtype=int32, numpy=\n",
       " array([[ 1,  2,  3,  4,  5,  6,  7,  8],\n",
       "        [ 9, 10, 11, 12, 13, 14, 15, 16],\n",
       "        [17, 18, 19, 20, 21, 22, 23, 24]])>,\n",
       " <tf.Tensor: shape=(24,), dtype=int32, numpy=\n",
       " array([ 1,  2,  3,  4,  5,  6,  7,  8,  9, 10, 11, 12, 13, 14, 15, 16, 17,\n",
       "        18, 19, 20, 21, 22, 23, 24])>)"
      ]
     },
     "execution_count": 20,
     "metadata": {},
     "output_type": "execute_result"
    }
   ],
   "source": [
    "A = tf.constant(numpy_A, shape=(3, 8))\n",
    "B = tf.constant(numpy_A)\n",
    "A, B"
   ]
  },
  {
   "cell_type": "markdown",
   "id": "6e45263d9441e1b8",
   "metadata": {},
   "source": [
    "# Getting information from our tensors"
   ]
  },
  {
   "cell_type": "markdown",
   "id": "17036ce9e3316625",
   "metadata": {},
   "source": [
    "When dealing with tensors, you probably want to be aware of the following attributes:\n",
    ". Shape \n",
    ". Rank\n",
    ". Axis or dimension \n",
    ". Size "
   ]
  },
  {
   "cell_type": "code",
   "execution_count": 21,
   "id": "5fd61baf596bb344",
   "metadata": {
    "ExecuteTime": {
     "end_time": "2023-08-27T13:19:24.364919400Z",
     "start_time": "2023-08-27T13:19:23.601892700Z"
    }
   },
   "outputs": [
    {
     "data": {
      "text/plain": [
       "<tf.Tensor: shape=(2, 3, 4, 5), dtype=float32, numpy=\n",
       "array([[[[0., 0., 0., 0., 0.],\n",
       "         [0., 0., 0., 0., 0.],\n",
       "         [0., 0., 0., 0., 0.],\n",
       "         [0., 0., 0., 0., 0.]],\n",
       "\n",
       "        [[0., 0., 0., 0., 0.],\n",
       "         [0., 0., 0., 0., 0.],\n",
       "         [0., 0., 0., 0., 0.],\n",
       "         [0., 0., 0., 0., 0.]],\n",
       "\n",
       "        [[0., 0., 0., 0., 0.],\n",
       "         [0., 0., 0., 0., 0.],\n",
       "         [0., 0., 0., 0., 0.],\n",
       "         [0., 0., 0., 0., 0.]]],\n",
       "\n",
       "\n",
       "       [[[0., 0., 0., 0., 0.],\n",
       "         [0., 0., 0., 0., 0.],\n",
       "         [0., 0., 0., 0., 0.],\n",
       "         [0., 0., 0., 0., 0.]],\n",
       "\n",
       "        [[0., 0., 0., 0., 0.],\n",
       "         [0., 0., 0., 0., 0.],\n",
       "         [0., 0., 0., 0., 0.],\n",
       "         [0., 0., 0., 0., 0.]],\n",
       "\n",
       "        [[0., 0., 0., 0., 0.],\n",
       "         [0., 0., 0., 0., 0.],\n",
       "         [0., 0., 0., 0., 0.],\n",
       "         [0., 0., 0., 0., 0.]]]], dtype=float32)>"
      ]
     },
     "execution_count": 21,
     "metadata": {},
     "output_type": "execute_result"
    }
   ],
   "source": [
    "# Create a rank 4 tensor ( 4 dimension )\n",
    "rank_4_tensor = tf.zeros(shape=[2, 3, 4, 5])\n",
    "rank_4_tensor"
   ]
  },
  {
   "cell_type": "code",
   "execution_count": 22,
   "id": "caec2207dcc0b9c2",
   "metadata": {
    "ExecuteTime": {
     "end_time": "2023-08-27T13:19:24.992421800Z",
     "start_time": "2023-08-27T13:19:23.633539500Z"
    }
   },
   "outputs": [
    {
     "data": {
      "text/plain": [
       "(TensorShape([2, 3, 4, 5]), 4, <tf.Tensor: shape=(), dtype=int32, numpy=120>)"
      ]
     },
     "execution_count": 22,
     "metadata": {},
     "output_type": "execute_result"
    }
   ],
   "source": [
    "rank_4_tensor.shape, rank_4_tensor.ndim, tf.size(rank_4_tensor)"
   ]
  },
  {
   "cell_type": "code",
   "execution_count": 23,
   "id": "284e232822eeb9c5",
   "metadata": {
    "ExecuteTime": {
     "end_time": "2023-08-27T13:19:25.290497200Z",
     "start_time": "2023-08-27T13:19:23.817108700Z"
    }
   },
   "outputs": [
    {
     "data": {
      "text/plain": [
       "<tf.Tensor: shape=(3, 4, 5), dtype=float32, numpy=\n",
       "array([[[0., 0., 0., 0., 0.],\n",
       "        [0., 0., 0., 0., 0.],\n",
       "        [0., 0., 0., 0., 0.],\n",
       "        [0., 0., 0., 0., 0.]],\n",
       "\n",
       "       [[0., 0., 0., 0., 0.],\n",
       "        [0., 0., 0., 0., 0.],\n",
       "        [0., 0., 0., 0., 0.],\n",
       "        [0., 0., 0., 0., 0.]],\n",
       "\n",
       "       [[0., 0., 0., 0., 0.],\n",
       "        [0., 0., 0., 0., 0.],\n",
       "        [0., 0., 0., 0., 0.],\n",
       "        [0., 0., 0., 0., 0.]]], dtype=float32)>"
      ]
     },
     "execution_count": 23,
     "metadata": {},
     "output_type": "execute_result"
    }
   ],
   "source": [
    "rank_4_tensor[0]"
   ]
  },
  {
   "cell_type": "code",
   "execution_count": 24,
   "id": "79b335fe09bbb477",
   "metadata": {
    "ExecuteTime": {
     "end_time": "2023-08-27T13:19:25.409431700Z",
     "start_time": "2023-08-27T13:19:24.067317800Z"
    }
   },
   "outputs": [
    {
     "name": "stdout",
     "output_type": "stream",
     "text": [
      "Datatype of every element: <dtype: 'float32'>\n",
      "Number of dimensions (rank): 4\n",
      "Shape of tensor: (2, 3, 4, 5)\n",
      "Elements along the 0 axis : 2\n",
      "Elements along the last axis : 5\n"
     ]
    }
   ],
   "source": [
    "# Get various attributes of our tensors \n",
    "print (\"Datatype of every element:\", rank_4_tensor.dtype)\n",
    "print(\"Number of dimensions (rank):\",rank_4_tensor.ndim)\n",
    "print(\"Shape of tensor:\", rank_4_tensor.shape)\n",
    "print(\"Elements along the 0 axis :\", rank_4_tensor.shape[0])\n",
    "print(\"Elements along the last axis :\",rank_4_tensor.shape[-1]) "
   ]
  },
  {
   "cell_type": "markdown",
   "id": "66a0f3a2296a234d",
   "metadata": {},
   "source": [
    "# Indexing tensors\n",
    "Tensors can be indexed just like python lists."
   ]
  },
  {
   "cell_type": "code",
   "execution_count": 25,
   "id": "2b5b894a149a0dd9",
   "metadata": {
    "ExecuteTime": {
     "end_time": "2023-08-27T13:19:25.472336200Z",
     "start_time": "2023-08-27T13:19:24.678716400Z"
    }
   },
   "outputs": [
    {
     "data": {
      "text/plain": [
       "[1, 2]"
      ]
     },
     "execution_count": 25,
     "metadata": {},
     "output_type": "execute_result"
    }
   ],
   "source": [
    "some_list = [1, 2, 3, 4]\n",
    "some_list[0:2]"
   ]
  },
  {
   "cell_type": "code",
   "execution_count": 26,
   "id": "9421c80cf23aa054",
   "metadata": {
    "ExecuteTime": {
     "end_time": "2023-08-27T13:19:25.597733300Z",
     "start_time": "2023-08-27T13:19:24.851392400Z"
    }
   },
   "outputs": [
    {
     "data": {
      "text/plain": [
       "<tf.Tensor: shape=(2, 2, 2, 2), dtype=float32, numpy=\n",
       "array([[[[0., 0.],\n",
       "         [0., 0.]],\n",
       "\n",
       "        [[0., 0.],\n",
       "         [0., 0.]]],\n",
       "\n",
       "\n",
       "       [[[0., 0.],\n",
       "         [0., 0.]],\n",
       "\n",
       "        [[0., 0.],\n",
       "         [0., 0.]]]], dtype=float32)>"
      ]
     },
     "execution_count": 26,
     "metadata": {},
     "output_type": "execute_result"
    }
   ],
   "source": [
    "# Get the first two elements of each dimension\n",
    "rank_4_tensor[:2, :2, :2, :2]"
   ]
  },
  {
   "cell_type": "code",
   "execution_count": 27,
   "id": "596623ae4f6705b2",
   "metadata": {
    "ExecuteTime": {
     "end_time": "2023-08-27T13:19:25.629380300Z",
     "start_time": "2023-08-27T13:19:24.882640300Z"
    }
   },
   "outputs": [
    {
     "data": {
      "text/plain": [
       "[1]"
      ]
     },
     "execution_count": 27,
     "metadata": {},
     "output_type": "execute_result"
    }
   ],
   "source": [
    "some_list[:1]"
   ]
  },
  {
   "cell_type": "code",
   "execution_count": 28,
   "id": "39c390ee3e8a2403",
   "metadata": {
    "ExecuteTime": {
     "end_time": "2023-08-27T13:19:25.895824700Z",
     "start_time": "2023-08-27T13:19:25.362514400Z"
    }
   },
   "outputs": [
    {
     "data": {
      "text/plain": [
       "TensorShape([2, 3, 4, 5])"
      ]
     },
     "execution_count": 28,
     "metadata": {},
     "output_type": "execute_result"
    }
   ],
   "source": [
    "rank_4_tensor.shape"
   ]
  },
  {
   "cell_type": "code",
   "execution_count": 29,
   "id": "b9ac6df500ad81c9",
   "metadata": {
    "ExecuteTime": {
     "end_time": "2023-08-27T13:19:26.445113100Z",
     "start_time": "2023-08-27T13:19:26.037243600Z"
    }
   },
   "outputs": [
    {
     "data": {
      "text/plain": [
       "<tf.Tensor: shape=(1, 1, 1, 5), dtype=float32, numpy=array([[[[0., 0., 0., 0., 0.]]]], dtype=float32)>"
      ]
     },
     "execution_count": 29,
     "metadata": {},
     "output_type": "execute_result"
    }
   ],
   "source": [
    "# Get the first element of each dimension from each index except for the final one.\n",
    "rank_4_tensor[:1, :1, :1, :]"
   ]
  },
  {
   "cell_type": "code",
   "execution_count": 30,
   "id": "d4811622d5269117",
   "metadata": {
    "ExecuteTime": {
     "end_time": "2023-08-27T13:19:26.664655900Z",
     "start_time": "2023-08-27T13:19:26.413458200Z"
    }
   },
   "outputs": [
    {
     "data": {
      "text/plain": [
       "(<tf.Tensor: shape=(2, 2), dtype=int32, numpy=\n",
       " array([[10,  7],\n",
       "        [ 3,  4]])>,\n",
       " TensorShape([2, 2]),\n",
       " 2)"
      ]
     },
     "execution_count": 30,
     "metadata": {},
     "output_type": "execute_result"
    }
   ],
   "source": [
    "# Create a rank 2 tensor\n",
    "rank_2_tensor = tf.constant([[10, 7],\n",
    "                             [3, 4]])\n",
    "rank_2_tensor, rank_2_tensor.shape, rank_2_tensor.ndim"
   ]
  },
  {
   "cell_type": "code",
   "execution_count": 31,
   "id": "8c43f2729da6a8ad",
   "metadata": {
    "ExecuteTime": {
     "end_time": "2023-08-27T13:19:29.852769900Z",
     "start_time": "2023-08-27T13:19:26.601754100Z"
    }
   },
   "outputs": [
    {
     "data": {
      "text/plain": [
       "([1, 2, 3, 4], 4)"
      ]
     },
     "execution_count": 31,
     "metadata": {},
     "output_type": "execute_result"
    }
   ],
   "source": [
    "some_list, some_list[-1]"
   ]
  },
  {
   "cell_type": "code",
   "execution_count": 32,
   "id": "8f7ef7a56f3a2df3",
   "metadata": {
    "ExecuteTime": {
     "end_time": "2023-08-27T13:19:32.388993Z",
     "start_time": "2023-08-27T13:19:29.240985500Z"
    }
   },
   "outputs": [
    {
     "data": {
      "text/plain": [
       "<tf.Tensor: shape=(2,), dtype=int32, numpy=array([7, 4])>"
      ]
     },
     "execution_count": 32,
     "metadata": {},
     "output_type": "execute_result"
    }
   ],
   "source": [
    "# Get the last item of each of row of our rank_2_tensor\n",
    "rank_2_tensor[:, -1]"
   ]
  },
  {
   "cell_type": "code",
   "execution_count": 33,
   "id": "a374a1f699eebb35",
   "metadata": {
    "ExecuteTime": {
     "end_time": "2023-08-27T13:19:33.189149100Z",
     "start_time": "2023-08-27T13:19:29.272242400Z"
    }
   },
   "outputs": [
    {
     "data": {
      "text/plain": [
       "<tf.Tensor: shape=(2, 2, 1), dtype=int32, numpy=\n",
       "array([[[10],\n",
       "        [ 7]],\n",
       "\n",
       "       [[ 3],\n",
       "        [ 4]]])>"
      ]
     },
     "execution_count": 33,
     "metadata": {},
     "output_type": "execute_result"
    }
   ],
   "source": [
    "# Add an extra dimension to our rank_2_tensor\n",
    "rank_3_tensor = rank_2_tensor[..., tf.newaxis]\n",
    "rank_3_tensor"
   ]
  },
  {
   "cell_type": "code",
   "execution_count": 34,
   "id": "beffdae5d42a5a43",
   "metadata": {
    "ExecuteTime": {
     "end_time": "2023-08-27T13:19:33.314540300Z",
     "start_time": "2023-08-27T13:19:29.491790700Z"
    }
   },
   "outputs": [
    {
     "data": {
      "text/plain": [
       "<tf.Tensor: shape=(2, 2, 1), dtype=int32, numpy=\n",
       "array([[[10],\n",
       "        [ 7]],\n",
       "\n",
       "       [[ 3],\n",
       "        [ 4]]])>"
      ]
     },
     "execution_count": 34,
     "metadata": {},
     "output_type": "execute_result"
    }
   ],
   "source": [
    "# Alternative to tf.newaxis\n",
    "tf.expand_dims(rank_2_tensor, axis=-1) # \"-1\" means expand the final axis"
   ]
  },
  {
   "cell_type": "code",
   "execution_count": 35,
   "id": "8a63c167a7b51d40",
   "metadata": {
    "ExecuteTime": {
     "end_time": "2023-08-27T13:19:33.816018500Z",
     "start_time": "2023-08-27T13:19:29.633205100Z"
    }
   },
   "outputs": [
    {
     "data": {
      "text/plain": [
       "<tf.Tensor: shape=(1, 2, 2), dtype=int32, numpy=\n",
       "array([[[10,  7],\n",
       "        [ 3,  4]]])>"
      ]
     },
     "execution_count": 35,
     "metadata": {},
     "output_type": "execute_result"
    }
   ],
   "source": [
    "# Expand the 0-axis\n",
    "tf.expand_dims(rank_2_tensor, axis=0) # expand the zero axis"
   ]
  },
  {
   "cell_type": "code",
   "execution_count": 36,
   "id": "6902dfc6dba0348",
   "metadata": {
    "ExecuteTime": {
     "end_time": "2023-08-27T13:19:33.847655600Z",
     "start_time": "2023-08-27T13:19:29.930268300Z"
    }
   },
   "outputs": [
    {
     "data": {
      "text/plain": [
       "<tf.Tensor: shape=(2, 2), dtype=int32, numpy=\n",
       "array([[10,  7],\n",
       "       [ 3,  4]])>"
      ]
     },
     "execution_count": 36,
     "metadata": {},
     "output_type": "execute_result"
    }
   ],
   "source": [
    "rank_2_tensor"
   ]
  },
  {
   "cell_type": "markdown",
   "id": "5a7850d2c39ee40c",
   "metadata": {},
   "source": [
    "# Manipulating tensors (Tenors operations)\n",
    "Basic operations\n",
    "+, -,* /"
   ]
  },
  {
   "cell_type": "code",
   "execution_count": 37,
   "id": "44aa4f1bd09a1730",
   "metadata": {
    "ExecuteTime": {
     "end_time": "2023-08-27T13:19:33.847655600Z",
     "start_time": "2023-08-27T13:19:30.197773400Z"
    }
   },
   "outputs": [
    {
     "data": {
      "text/plain": [
       "<tf.Tensor: shape=(2, 2), dtype=int32, numpy=\n",
       "array([[20, 17],\n",
       "       [13, 14]])>"
      ]
     },
     "execution_count": 37,
     "metadata": {},
     "output_type": "execute_result"
    }
   ],
   "source": [
    "# You can add values to a tensor using the addition operator\n",
    "tensor = tf.constant([[10, 7],\n",
    "                      [3, 4]])\n",
    "tensor + 10"
   ]
  },
  {
   "cell_type": "code",
   "execution_count": 38,
   "id": "3e8400933488fd16",
   "metadata": {
    "ExecuteTime": {
     "end_time": "2023-08-27T13:19:33.847655600Z",
     "start_time": "2023-08-27T13:19:30.386102900Z"
    }
   },
   "outputs": [
    {
     "data": {
      "text/plain": [
       "<tf.Tensor: shape=(2, 2), dtype=int32, numpy=\n",
       "array([[10,  7],\n",
       "       [ 3,  4]])>"
      ]
     },
     "execution_count": 38,
     "metadata": {},
     "output_type": "execute_result"
    }
   ],
   "source": [
    "# The Original tensor is unchanged\n",
    "tensor"
   ]
  },
  {
   "cell_type": "code",
   "execution_count": 39,
   "id": "25de7fed640f5dc5",
   "metadata": {
    "ExecuteTime": {
     "end_time": "2023-08-27T13:19:33.847655600Z",
     "start_time": "2023-08-27T13:19:30.543141700Z"
    }
   },
   "outputs": [
    {
     "data": {
      "text/plain": [
       "<tf.Tensor: shape=(2, 2), dtype=int32, numpy=\n",
       "array([[100,  70],\n",
       "       [ 30,  40]])>"
      ]
     },
     "execution_count": 39,
     "metadata": {},
     "output_type": "execute_result"
    }
   ],
   "source": [
    "# Multiplication also works\n",
    "tensor * 10"
   ]
  },
  {
   "cell_type": "code",
   "execution_count": 40,
   "id": "1ae98570aa7557b",
   "metadata": {
    "ExecuteTime": {
     "end_time": "2023-08-27T13:19:33.847655600Z",
     "start_time": "2023-08-27T13:19:30.715414700Z"
    }
   },
   "outputs": [
    {
     "data": {
      "text/plain": [
       "<tf.Tensor: shape=(2, 2), dtype=int32, numpy=\n",
       "array([[ 0, -3],\n",
       "       [-7, -6]])>"
      ]
     },
     "execution_count": 40,
     "metadata": {},
     "output_type": "execute_result"
    }
   ],
   "source": [
    "# Subtraction if you want \n",
    "tensor - 10"
   ]
  },
  {
   "cell_type": "code",
   "execution_count": 41,
   "id": "52d8c26896da003a",
   "metadata": {
    "ExecuteTime": {
     "end_time": "2023-08-27T13:19:34.616785100Z",
     "start_time": "2023-08-27T13:19:30.966886100Z"
    }
   },
   "outputs": [
    {
     "data": {
      "text/plain": [
       "<tf.Tensor: shape=(2, 2), dtype=int32, numpy=\n",
       "array([[100,  70],\n",
       "       [ 30,  40]])>"
      ]
     },
     "execution_count": 41,
     "metadata": {},
     "output_type": "execute_result"
    }
   ],
   "source": [
    "# We can use the Tensorflow built-in functions too\n",
    "tf.multiply(tensor, 10)"
   ]
  },
  {
   "cell_type": "code",
   "execution_count": 42,
   "id": "ac4abee35bd9a705",
   "metadata": {
    "ExecuteTime": {
     "end_time": "2023-08-27T13:19:34.648425400Z",
     "start_time": "2023-08-27T13:19:31.259350600Z"
    }
   },
   "outputs": [
    {
     "data": {
      "text/plain": [
       "<tf.Tensor: shape=(2, 2), dtype=int32, numpy=\n",
       "array([[10,  7],\n",
       "       [ 3,  4]])>"
      ]
     },
     "execution_count": 42,
     "metadata": {},
     "output_type": "execute_result"
    }
   ],
   "source": [
    "tensor"
   ]
  },
  {
   "cell_type": "markdown",
   "id": "a2662d443659f237",
   "metadata": {},
   "source": [
    "# Matrix multiplication\n",
    "In machine learning, matrix multiplication is one of the most common tensor operations.\n",
    "There are two rules our tensors (or matrices) need to fulfill if we're going to matrix multiply them:\n",
    "1. The inner dimensions must match \n",
    "2. The resulting matrix has the shape of the outer dimensions."
   ]
  },
  {
   "cell_type": "code",
   "execution_count": 43,
   "id": "45420734743a30b0",
   "metadata": {
    "ExecuteTime": {
     "end_time": "2023-08-27T13:19:34.679681700Z",
     "start_time": "2023-08-27T13:19:31.510191Z"
    }
   },
   "outputs": [
    {
     "name": "stdout",
     "output_type": "stream",
     "text": [
      "tf.Tensor(\n",
      "[[10  7]\n",
      " [ 3  4]], shape=(2, 2), dtype=int32)\n"
     ]
    },
    {
     "data": {
      "text/plain": [
       "<tf.Tensor: shape=(2, 2), dtype=int32, numpy=\n",
       "array([[121,  98],\n",
       "       [ 42,  37]])>"
      ]
     },
     "execution_count": 43,
     "metadata": {},
     "output_type": "execute_result"
    }
   ],
   "source": [
    "# Matrix multiplication in Tensorflow\n",
    "print(tensor)\n",
    "tf.matmul(tensor, tensor)"
   ]
  },
  {
   "cell_type": "code",
   "execution_count": 44,
   "id": "1bac8ffff0bd6d2",
   "metadata": {
    "ExecuteTime": {
     "end_time": "2023-08-27T13:19:34.679681700Z",
     "start_time": "2023-08-27T13:19:31.651622100Z"
    }
   },
   "outputs": [
    {
     "data": {
      "text/plain": [
       "<tf.Tensor: shape=(2, 2), dtype=int32, numpy=\n",
       "array([[100,  49],\n",
       "       [  9,  16]])>"
      ]
     },
     "execution_count": 44,
     "metadata": {},
     "output_type": "execute_result"
    }
   ],
   "source": [
    "tensor * tensor"
   ]
  },
  {
   "cell_type": "code",
   "execution_count": 45,
   "id": "dc1500aa61e6c419",
   "metadata": {
    "ExecuteTime": {
     "end_time": "2023-08-27T13:19:34.679681700Z",
     "start_time": "2023-08-27T13:19:31.886868700Z"
    }
   },
   "outputs": [
    {
     "data": {
      "text/plain": [
       "<tf.Tensor: shape=(2, 2), dtype=bool, numpy=\n",
       "array([[False, False],\n",
       "       [False, False]])>"
      ]
     },
     "execution_count": 45,
     "metadata": {},
     "output_type": "execute_result"
    }
   ],
   "source": [
    "# Check out if the results from tensor * tensor ?= tf.matmul \n",
    "tensor * tensor == tf.matmul(tensor, tensor)"
   ]
  },
  {
   "cell_type": "code",
   "execution_count": 46,
   "id": "8dd4b3683f41de8f",
   "metadata": {
    "ExecuteTime": {
     "end_time": "2023-08-27T13:19:34.679681700Z",
     "start_time": "2023-08-27T13:19:32.059599Z"
    }
   },
   "outputs": [
    {
     "data": {
      "text/plain": [
       "<tf.Tensor: shape=(2, 2), dtype=bool, numpy=\n",
       "array([[ True,  True],\n",
       "       [ True,  True]])>"
      ]
     },
     "execution_count": 46,
     "metadata": {},
     "output_type": "execute_result"
    }
   ],
   "source": [
    "# Matrix multiplication with Python operator \"@\"\n",
    "var = tensor @ tensor\n",
    "tensor @ tensor == tf.matmul(tensor, tensor)"
   ]
  },
  {
   "cell_type": "code",
   "execution_count": 47,
   "id": "b01c6011f812d2b6",
   "metadata": {
    "ExecuteTime": {
     "end_time": "2023-08-27T13:19:34.695304300Z",
     "start_time": "2023-08-27T13:19:32.234929Z"
    }
   },
   "outputs": [
    {
     "data": {
      "text/plain": [
       "TensorShape([2, 2])"
      ]
     },
     "execution_count": 47,
     "metadata": {},
     "output_type": "execute_result"
    }
   ],
   "source": [
    "tensor.shape"
   ]
  },
  {
   "cell_type": "code",
   "execution_count": 48,
   "id": "fe60c7ba1b2ea33a",
   "metadata": {
    "ExecuteTime": {
     "end_time": "2023-08-27T13:19:34.742573600Z",
     "start_time": "2023-08-27T13:19:32.373363600Z"
    }
   },
   "outputs": [
    {
     "data": {
      "text/plain": [
       "(<tf.Tensor: shape=(3, 2), dtype=int32, numpy=\n",
       " array([[1, 2],\n",
       "        [3, 4],\n",
       "        [5, 6]])>,\n",
       " <tf.Tensor: shape=(3, 2), dtype=int32, numpy=\n",
       " array([[ 7,  8],\n",
       "        [ 9, 10],\n",
       "        [11, 12]])>)"
      ]
     },
     "execution_count": 48,
     "metadata": {},
     "output_type": "execute_result"
    }
   ],
   "source": [
    "# Create a tensor (3, 2) tensor\n",
    "X = tf.constant([[1, 2],\n",
    "                 [3, 4],\n",
    "                 [5, 6]])\n",
    "Y = tf.constant([[7, 8],\n",
    "                 [9, 10],\n",
    "                 [11, 12]])\n",
    "X, Y"
   ]
  },
  {
   "cell_type": "code",
   "execution_count": 49,
   "id": "c3e6827af2ee001b",
   "metadata": {
    "ExecuteTime": {
     "end_time": "2023-08-27T13:19:35.118270400Z",
     "start_time": "2023-08-27T13:19:32.736041300Z"
    }
   },
   "outputs": [
    {
     "ename": "InvalidArgumentError",
     "evalue": "{{function_node __wrapped__MatMul_device_/job:localhost/replica:0/task:0/device:CPU:0}} Matrix size-incompatible: In[0]: [3,2], In[1]: [3,2] [Op:MatMul]",
     "output_type": "error",
     "traceback": [
      "\u001b[1;31m---------------------------------------------------------------------------\u001b[0m",
      "\u001b[1;31mInvalidArgumentError\u001b[0m                      Traceback (most recent call last)",
      "Cell \u001b[1;32mIn[49], line 2\u001b[0m\n\u001b[0;32m      1\u001b[0m \u001b[38;5;66;03m# Try to matrix multiply tensors of the same shape\u001b[39;00m\n\u001b[1;32m----> 2\u001b[0m \u001b[43mtf\u001b[49m\u001b[38;5;241;43m.\u001b[39;49m\u001b[43mmatmul\u001b[49m\u001b[43m(\u001b[49m\u001b[43mX\u001b[49m\u001b[43m,\u001b[49m\u001b[43m \u001b[49m\u001b[43mY\u001b[49m\u001b[43m)\u001b[49m\n",
      "File \u001b[1;32m~\\AppData\\Local\\Programs\\Python\\Python38\\lib\\site-packages\\tensorflow\\python\\util\\traceback_utils.py:153\u001b[0m, in \u001b[0;36mfilter_traceback.<locals>.error_handler\u001b[1;34m(*args, **kwargs)\u001b[0m\n\u001b[0;32m    151\u001b[0m \u001b[38;5;28;01mexcept\u001b[39;00m \u001b[38;5;167;01mException\u001b[39;00m \u001b[38;5;28;01mas\u001b[39;00m e:\n\u001b[0;32m    152\u001b[0m   filtered_tb \u001b[38;5;241m=\u001b[39m _process_traceback_frames(e\u001b[38;5;241m.\u001b[39m__traceback__)\n\u001b[1;32m--> 153\u001b[0m   \u001b[38;5;28;01mraise\u001b[39;00m e\u001b[38;5;241m.\u001b[39mwith_traceback(filtered_tb) \u001b[38;5;28;01mfrom\u001b[39;00m \u001b[38;5;28;01mNone\u001b[39;00m\n\u001b[0;32m    154\u001b[0m \u001b[38;5;28;01mfinally\u001b[39;00m:\n\u001b[0;32m    155\u001b[0m   \u001b[38;5;28;01mdel\u001b[39;00m filtered_tb\n",
      "File \u001b[1;32m~\\AppData\\Local\\Programs\\Python\\Python38\\lib\\site-packages\\tensorflow\\python\\framework\\ops.py:7209\u001b[0m, in \u001b[0;36mraise_from_not_ok_status\u001b[1;34m(e, name)\u001b[0m\n\u001b[0;32m   7207\u001b[0m \u001b[38;5;28;01mdef\u001b[39;00m \u001b[38;5;21mraise_from_not_ok_status\u001b[39m(e, name):\n\u001b[0;32m   7208\u001b[0m   e\u001b[38;5;241m.\u001b[39mmessage \u001b[38;5;241m+\u001b[39m\u001b[38;5;241m=\u001b[39m (\u001b[38;5;124m\"\u001b[39m\u001b[38;5;124m name: \u001b[39m\u001b[38;5;124m\"\u001b[39m \u001b[38;5;241m+\u001b[39m name \u001b[38;5;28;01mif\u001b[39;00m name \u001b[38;5;129;01mis\u001b[39;00m \u001b[38;5;129;01mnot\u001b[39;00m \u001b[38;5;28;01mNone\u001b[39;00m \u001b[38;5;28;01melse\u001b[39;00m \u001b[38;5;124m\"\u001b[39m\u001b[38;5;124m\"\u001b[39m)\n\u001b[1;32m-> 7209\u001b[0m   \u001b[38;5;28;01mraise\u001b[39;00m core\u001b[38;5;241m.\u001b[39m_status_to_exception(e) \u001b[38;5;28;01mfrom\u001b[39;00m \u001b[38;5;28;01mNone\u001b[39;00m\n",
      "\u001b[1;31mInvalidArgumentError\u001b[0m: {{function_node __wrapped__MatMul_device_/job:localhost/replica:0/task:0/device:CPU:0}} Matrix size-incompatible: In[0]: [3,2], In[1]: [3,2] [Op:MatMul]"
     ]
    }
   ],
   "source": [
    "# Try to matrix multiply tensors of the same shape\n",
    "tf.matmul(X, Y)"
   ]
  },
  {
   "cell_type": "code",
   "execution_count": null,
   "id": "77d80dbcb489e10e",
   "metadata": {
    "ExecuteTime": {
     "start_time": "2023-08-27T13:19:33.628230Z"
    }
   },
   "outputs": [],
   "source": [
    "Y"
   ]
  },
  {
   "cell_type": "code",
   "execution_count": null,
   "id": "57baed2951f1b01d",
   "metadata": {
    "ExecuteTime": {
     "start_time": "2023-08-27T13:19:33.637739300Z"
    }
   },
   "outputs": [],
   "source": [
    "# Let's change the shape of Y\n",
    "tf.reshape(Y, shape=(2, 3))"
   ]
  },
  {
   "cell_type": "code",
   "execution_count": null,
   "id": "b27abc7affaa7aa6",
   "metadata": {
    "ExecuteTime": {
     "start_time": "2023-08-27T13:19:33.644248700Z"
    }
   },
   "outputs": [],
   "source": [
    "X.shape, tf.reshape(Y, shape=(2, 3)).shape"
   ]
  },
  {
   "cell_type": "code",
   "execution_count": null,
   "id": "812620daee8c71af",
   "metadata": {
    "ExecuteTime": {
     "start_time": "2023-08-27T13:19:33.644248700Z"
    }
   },
   "outputs": [],
   "source": [
    "# Try to matrix multiplying X buy reshaped Y using @ \n",
    "X @ tf.reshape(Y, shape=(2, 3))"
   ]
  },
  {
   "cell_type": "code",
   "execution_count": null,
   "id": "31818b9842f0ca",
   "metadata": {
    "ExecuteTime": {
     "start_time": "2023-08-27T13:19:33.644248700Z"
    }
   },
   "outputs": [],
   "source": [
    "# Try to matrix multiplying X but reshaped Y using tf.matmul\n",
    "tf.matmul(X, tf.reshape(Y, shape=(2, 3)))"
   ]
  },
  {
   "cell_type": "code",
   "execution_count": null,
   "id": "7afa18db8d261e7b",
   "metadata": {
    "ExecuteTime": {
     "start_time": "2023-08-27T13:19:33.659882500Z"
    }
   },
   "outputs": [],
   "source": [
    "# verify if the two results are the same \n",
    "X @ tf.reshape(Y, shape=(2, 3)) == tf.matmul(X, tf.reshape(Y, shape=(2, 3)))"
   ]
  },
  {
   "cell_type": "code",
   "execution_count": null,
   "id": "26034ef81c925dc",
   "metadata": {
    "ExecuteTime": {
     "start_time": "2023-08-27T13:19:33.659882500Z"
    }
   },
   "outputs": [],
   "source": [
    "X.shape"
   ]
  },
  {
   "cell_type": "code",
   "execution_count": 50,
   "id": "526a702d3cc90724",
   "metadata": {
    "ExecuteTime": {
     "end_time": "2023-08-27T13:19:35.526125700Z",
     "start_time": "2023-08-27T13:19:33.691131400Z"
    }
   },
   "outputs": [
    {
     "data": {
      "text/plain": [
       "(TensorShape([2, 3]), TensorShape([3, 2]))"
      ]
     },
     "execution_count": 50,
     "metadata": {},
     "output_type": "execute_result"
    }
   ],
   "source": [
    "# Try to change the shape of X instead of Y\n",
    "tf.reshape(X, shape=(2, 3)).shape, Y.shape"
   ]
  },
  {
   "cell_type": "code",
   "execution_count": 51,
   "id": "5388f92a2a9e31d6",
   "metadata": {
    "ExecuteTime": {
     "end_time": "2023-08-27T13:19:35.808568200Z",
     "start_time": "2023-08-27T13:19:33.753520400Z"
    }
   },
   "outputs": [
    {
     "data": {
      "text/plain": [
       "<tf.Tensor: shape=(3, 3), dtype=int32, numpy=\n",
       "array([[ 39,  54,  69],\n",
       "       [ 49,  68,  87],\n",
       "       [ 59,  82, 105]])>"
      ]
     },
     "execution_count": 51,
     "metadata": {},
     "output_type": "execute_result"
    }
   ],
   "source": [
    "# Try to multiply with the new shape of X with Y\n",
    "tf.matmul(Y, tf.reshape(X, shape=(2, 3)))"
   ]
  },
  {
   "cell_type": "markdown",
   "id": "a49461f61ee66d4",
   "metadata": {},
   "source": [
    "Note : The multiplication works but the results are different from the multiplication of the changed shape of X an Y "
   ]
  },
  {
   "cell_type": "code",
   "execution_count": 52,
   "id": "12754dd45c6030ef",
   "metadata": {
    "ExecuteTime": {
     "end_time": "2023-08-27T13:19:35.841826200Z",
     "start_time": "2023-08-27T13:19:34.240760500Z"
    }
   },
   "outputs": [
    {
     "data": {
      "text/plain": [
       "(<tf.Tensor: shape=(3, 2), dtype=int32, numpy=\n",
       " array([[1, 2],\n",
       "        [3, 4],\n",
       "        [5, 6]])>,\n",
       " <tf.Tensor: shape=(2, 3), dtype=int32, numpy=\n",
       " array([[1, 3, 5],\n",
       "        [2, 4, 6]])>,\n",
       " <tf.Tensor: shape=(2, 3), dtype=int32, numpy=\n",
       " array([[1, 2, 3],\n",
       "        [4, 5, 6]])>)"
      ]
     },
     "execution_count": 52,
     "metadata": {},
     "output_type": "execute_result"
    }
   ],
   "source": [
    "# Can do the same with tf.transpose\n",
    "X, tf.transpose(X), tf.reshape(X, shape=(2, 3))"
   ]
  },
  {
   "cell_type": "code",
   "execution_count": 53,
   "id": "fe5d3a5365fd63ab",
   "metadata": {
    "ExecuteTime": {
     "end_time": "2023-08-27T13:19:35.855838400Z",
     "start_time": "2023-08-27T13:19:34.460138600Z"
    }
   },
   "outputs": [
    {
     "data": {
      "text/plain": [
       "<tf.Tensor: shape=(2, 2), dtype=int32, numpy=\n",
       "array([[ 89,  98],\n",
       "       [116, 128]])>"
      ]
     },
     "execution_count": 53,
     "metadata": {},
     "output_type": "execute_result"
    }
   ],
   "source": [
    "# Try matrix multiplication with transpose rather than reshape\n",
    "tf.matmul(tf.transpose(X), Y)"
   ]
  },
  {
   "cell_type": "code",
   "execution_count": 54,
   "id": "609ac021f58b6462",
   "metadata": {
    "ExecuteTime": {
     "end_time": "2023-08-27T13:19:35.918345800Z",
     "start_time": "2023-08-27T13:19:34.507011900Z"
    }
   },
   "outputs": [
    {
     "data": {
      "text/plain": [
       "<tf.Tensor: shape=(2, 2), dtype=int32, numpy=\n",
       "array([[ 89, 116],\n",
       "       [ 98, 128]])>"
      ]
     },
     "execution_count": 54,
     "metadata": {},
     "output_type": "execute_result"
    }
   ],
   "source": [
    "tf.matmul(tf.transpose(Y), X)"
   ]
  },
  {
   "cell_type": "markdown",
   "id": "acce8034f1778755",
   "metadata": {},
   "source": [
    " Note : The results are diffeent between matrix multiplication with transpose(X) and transpose(Y)\n"
   ]
  },
  {
   "cell_type": "markdown",
   "id": "73a6970d5dd01a7a",
   "metadata": {},
   "source": [
    "# The dot product \n",
    "Matrix multiplication is also referred to as the dot product.\n",
    "You can perform matrix multiplication using :\n",
    ". tf.matmul()\n",
    ". Tf.tensordot()\n",
    ". @"
   ]
  },
  {
   "cell_type": "code",
   "execution_count": 55,
   "id": "7e49f0ee407ea783",
   "metadata": {
    "ExecuteTime": {
     "end_time": "2023-08-27T13:19:36.431206300Z",
     "start_time": "2023-08-27T13:19:35.641397200Z"
    }
   },
   "outputs": [
    {
     "data": {
      "text/plain": [
       "(<tf.Tensor: shape=(3, 2), dtype=int32, numpy=\n",
       " array([[1, 2],\n",
       "        [3, 4],\n",
       "        [5, 6]])>,\n",
       " <tf.Tensor: shape=(3, 2), dtype=int32, numpy=\n",
       " array([[ 7,  8],\n",
       "        [ 9, 10],\n",
       "        [11, 12]])>)"
      ]
     },
     "execution_count": 55,
     "metadata": {},
     "output_type": "execute_result"
    }
   ],
   "source": [
    "X, Y"
   ]
  },
  {
   "cell_type": "code",
   "execution_count": 56,
   "id": "be8f4fe1c9985849",
   "metadata": {
    "ExecuteTime": {
     "end_time": "2023-08-27T13:19:37.121690700Z",
     "start_time": "2023-08-27T13:19:35.714410500Z"
    }
   },
   "outputs": [
    {
     "data": {
      "text/plain": [
       "<tf.Tensor: shape=(2, 2), dtype=int32, numpy=\n",
       "array([[ 89,  98],\n",
       "       [116, 128]])>"
      ]
     },
     "execution_count": 56,
     "metadata": {},
     "output_type": "execute_result"
    }
   ],
   "source": [
    "# Perform the dot product on X and Y (requires X or Y to be reshaped)\n",
    "tf.tensordot(tf.transpose(X), Y, axes=1)"
   ]
  },
  {
   "cell_type": "code",
   "execution_count": 57,
   "id": "4f0c2e645e05df90",
   "metadata": {
    "ExecuteTime": {
     "end_time": "2023-08-27T13:19:37.215834100Z",
     "start_time": "2023-08-27T13:19:35.981246200Z"
    }
   },
   "outputs": [
    {
     "data": {
      "text/plain": [
       "<tf.Tensor: shape=(3, 3), dtype=int32, numpy=\n",
       "array([[ 23,  29,  35],\n",
       "       [ 53,  67,  81],\n",
       "       [ 83, 105, 127]])>"
      ]
     },
     "execution_count": 57,
     "metadata": {},
     "output_type": "execute_result"
    }
   ],
   "source": [
    "# Perform matrix multiplication between X and Y (transposed)\n",
    "tf.matmul(X, tf.transpose(Y))"
   ]
  },
  {
   "cell_type": "code",
   "execution_count": 58,
   "id": "deb996fdaceb0cff",
   "metadata": {
    "ExecuteTime": {
     "end_time": "2023-08-27T13:19:37.451399500Z",
     "start_time": "2023-08-27T13:19:36.399958200Z"
    }
   },
   "outputs": [
    {
     "data": {
      "text/plain": [
       "<tf.Tensor: shape=(3, 3), dtype=int32, numpy=\n",
       "array([[ 27,  30,  33],\n",
       "       [ 61,  68,  75],\n",
       "       [ 95, 106, 117]])>"
      ]
     },
     "execution_count": 58,
     "metadata": {},
     "output_type": "execute_result"
    }
   ],
   "source": [
    "# Perform matrix multiplication between X and Y (reshaped)\n",
    "tf.matmul(X, tf.reshape(Y, shape=(2, 3)))"
   ]
  },
  {
   "cell_type": "code",
   "execution_count": 59,
   "id": "15502e1ab7e7aacb",
   "metadata": {
    "ExecuteTime": {
     "end_time": "2023-08-27T13:19:37.483616800Z",
     "start_time": "2023-08-27T13:19:36.855254300Z"
    }
   },
   "outputs": [
    {
     "name": "stdout",
     "output_type": "stream",
     "text": [
      "Normal Y:\n",
      "tf.Tensor(\n",
      "[[ 7  8]\n",
      " [ 9 10]\n",
      " [11 12]], shape=(3, 2), dtype=int32) \n",
      "\n",
      "Y reshaped to (2, 3):\n",
      "tf.Tensor(\n",
      "[[ 7  8  9]\n",
      " [10 11 12]], shape=(2, 3), dtype=int32) \n",
      "\n",
      "Y transposed:\n",
      "tf.Tensor(\n",
      "[[ 7  9 11]\n",
      " [ 8 10 12]], shape=(2, 3), dtype=int32)\n"
     ]
    }
   ],
   "source": [
    "# Check the values of Y, reshaped Y and transposd Y\n",
    "print(\"Normal Y:\")\n",
    "print(Y, \"\\n\") # \"\\n\" is for new line\n",
    "\n",
    "print(\"Y reshaped to (2, 3):\")\n",
    "print(tf.reshape(Y, (2, 3)), \"\\n\")\n",
    "\n",
    "print(\"Y transposed:\")\n",
    "print(tf.transpose(Y))"
   ]
  },
  {
   "cell_type": "code",
   "execution_count": 60,
   "id": "955c19364568b04b",
   "metadata": {
    "ExecuteTime": {
     "end_time": "2023-08-27T13:19:37.530502500Z",
     "start_time": "2023-08-27T13:19:37.011915Z"
    }
   },
   "outputs": [
    {
     "data": {
      "text/plain": [
       "<tf.Tensor: shape=(3, 3), dtype=int32, numpy=\n",
       "array([[ 23,  29,  35],\n",
       "       [ 53,  67,  81],\n",
       "       [ 83, 105, 127]])>"
      ]
     },
     "execution_count": 60,
     "metadata": {},
     "output_type": "execute_result"
    }
   ],
   "source": [
    "tf.matmul(X, tf.transpose(Y))"
   ]
  },
  {
   "cell_type": "markdown",
   "id": "41360906f0f33408",
   "metadata": {},
   "source": [
    "Note : Generally, when performing matrix on two tensors and one of the axes doesn't line up, you wil transpose rather than reshape one of the tensors to get satisfied."
   ]
  },
  {
   "cell_type": "markdown",
   "id": "e32d98f503d34429",
   "metadata": {},
   "source": [
    "# Changing the datatype of a tensor "
   ]
  },
  {
   "cell_type": "code",
   "execution_count": 61,
   "id": "2619d8489dd32d56",
   "metadata": {
    "ExecuteTime": {
     "end_time": "2023-08-27T13:19:39.754210200Z",
     "start_time": "2023-08-27T13:19:39.691290800Z"
    }
   },
   "outputs": [
    {
     "data": {
      "text/plain": [
       "'2.10.0'"
      ]
     },
     "execution_count": 61,
     "metadata": {},
     "output_type": "execute_result"
    }
   ],
   "source": [
    "tf.__version__"
   ]
  },
  {
   "cell_type": "code",
   "execution_count": 62,
   "id": "709307c0353840c",
   "metadata": {
    "ExecuteTime": {
     "end_time": "2023-08-27T13:19:40.058388500Z",
     "start_time": "2023-08-27T13:19:39.979878600Z"
    }
   },
   "outputs": [
    {
     "data": {
      "text/plain": [
       "(<tf.Tensor: shape=(2,), dtype=float32, numpy=array([1.7, 7.4], dtype=float32)>,\n",
       " tf.float32)"
      ]
     },
     "execution_count": 62,
     "metadata": {},
     "output_type": "execute_result"
    }
   ],
   "source": [
    "# Create a new tensor with default datatype(float32)\n",
    "B = tf.constant([1.7, 7.4])\n",
    "B, B.dtype"
   ]
  },
  {
   "cell_type": "code",
   "execution_count": 63,
   "id": "f00d8df72da0de7a",
   "metadata": {
    "ExecuteTime": {
     "end_time": "2023-08-27T13:19:42.003295800Z",
     "start_time": "2023-08-27T13:19:41.830630300Z"
    }
   },
   "outputs": [
    {
     "data": {
      "text/plain": [
       "(<tf.Tensor: shape=(2,), dtype=int32, numpy=array([ 7, 10])>, tf.int32)"
      ]
     },
     "execution_count": 63,
     "metadata": {},
     "output_type": "execute_result"
    }
   ],
   "source": [
    "C = tf.constant([7, 10])\n",
    "C, C.dtype"
   ]
  },
  {
   "cell_type": "code",
   "execution_count": 64,
   "id": "7d22440df9b82326",
   "metadata": {
    "ExecuteTime": {
     "end_time": "2023-08-27T13:19:43.052936200Z",
     "start_time": "2023-08-27T13:19:41.909152Z"
    }
   },
   "outputs": [
    {
     "data": {
      "text/plain": [
       "(<tf.Tensor: shape=(2,), dtype=float16, numpy=array([1.7, 7.4], dtype=float16)>,\n",
       " tf.float16)"
      ]
     },
     "execution_count": 64,
     "metadata": {},
     "output_type": "execute_result"
    }
   ],
   "source": [
    "# Change from float32 to float16\n",
    "D = tf.cast(B, dtype=tf.float16)\n",
    "D, D.dtype"
   ]
  },
  {
   "cell_type": "code",
   "execution_count": 65,
   "id": "9123a9c0568d0ae2",
   "metadata": {
    "ExecuteTime": {
     "end_time": "2023-08-27T13:19:43.225213200Z",
     "start_time": "2023-08-27T13:19:43.052936200Z"
    }
   },
   "outputs": [
    {
     "data": {
      "text/plain": [
       "(<tf.Tensor: shape=(2,), dtype=float32, numpy=array([ 7., 10.], dtype=float32)>,\n",
       " tf.float32)"
      ]
     },
     "execution_count": 65,
     "metadata": {},
     "output_type": "execute_result"
    }
   ],
   "source": [
    "# Change fro int32 to float32\n",
    "E = tf.cast(C, dtype=tf.float32)\n",
    "E, E.dtype"
   ]
  },
  {
   "cell_type": "code",
   "execution_count": 66,
   "id": "abc53fce708f7868",
   "metadata": {
    "ExecuteTime": {
     "end_time": "2023-08-27T13:19:43.680358700Z",
     "start_time": "2023-08-27T13:19:43.553924700Z"
    }
   },
   "outputs": [
    {
     "data": {
      "text/plain": [
       "(<tf.Tensor: shape=(2,), dtype=float16, numpy=array([ 7., 10.], dtype=float16)>,\n",
       " tf.float16)"
      ]
     },
     "execution_count": 66,
     "metadata": {},
     "output_type": "execute_result"
    }
   ],
   "source": [
    "E_float16 = tf.cast(E, dtype=tf.float16)\n",
    "E_float16, E_float16.dtype"
   ]
  },
  {
   "cell_type": "markdown",
   "id": "8f9df0318ad8a8bf",
   "metadata": {},
   "source": [
    "# Hands on machine larning "
   ]
  },
  {
   "cell_type": "code",
   "execution_count": null,
   "id": "a9107427e780295c",
   "metadata": {
    "ExecuteTime": {
     "start_time": "2023-08-27T12:26:38.923732700Z"
    }
   },
   "outputs": [],
   "source": []
  }
 ],
 "metadata": {
  "kernelspec": {
   "display_name": "Python 3 (ipykernel)",
   "language": "python",
   "name": "python3"
  },
  "language_info": {
   "codemirror_mode": {
    "name": "ipython",
    "version": 3
   },
   "file_extension": ".py",
   "mimetype": "text/x-python",
   "name": "python",
   "nbconvert_exporter": "python",
   "pygments_lexer": "ipython3",
   "version": "3.9.2"
  }
 },
 "nbformat": 4,
 "nbformat_minor": 5
}
